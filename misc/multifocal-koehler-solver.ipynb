{
 "cells": [
  {
   "cell_type": "markdown",
   "metadata": {},
   "source": [
    "# Solver for a multifocal Koehler integrator"
   ]
  },
  {
   "cell_type": "code",
   "execution_count": 1,
   "metadata": {},
   "outputs": [],
   "source": [
    "import itertools\n",
    "\n",
    "import numpy as np\n",
    "from scipy.optimize import minimize\n",
    "\n",
    "from kmdouglass.udesigner import Units\n",
    "from kmdouglass.udesigner.mfki import compute_results, DEFAULTS"
   ]
  },
  {
   "cell_type": "markdown",
   "metadata": {},
   "source": [
    "## Define the input search space\n",
    "\n",
    "In this case, we'll loop over (microlens array) MLA focal lengths and pitches."
   ]
  },
  {
   "cell_type": "code",
   "execution_count": 2,
   "metadata": {},
   "outputs": [],
   "source": [
    "mla_f = np.array([4.88, 10.0])\n",
    "mla_pitch = np.array([300.0, 600.0])\n",
    "\n",
    "search_space = list(itertools.product(mla_f, mla_pitch))"
   ]
  },
  {
   "cell_type": "markdown",
   "metadata": {},
   "source": [
    "## Define the cost function"
   ]
  },
  {
   "cell_type": "code",
   "execution_count": 3,
   "metadata": {},
   "outputs": [],
   "source": [
    "def cost_function(\n",
    "        mla_f: float,\n",
    "        mla_pitch: float,\n",
    "        mla_f_units: Units = Units.mm,\n",
    "        mla_pitch_units: Units = Units.um,\n",
    "        field_size_target: float = 160e-6,\n",
    "        field_size_hyperparam: float = 1.0,\n",
    "        spot_size_hyperparam: float = 1.0,\n",
    "        fresnel_number_hyperparam: float = 1.0,\n",
    "        homogeneity_hyperparam: float = 1.0,\n",
    ") -> float:\n",
    "    inputs = DEFAULTS.copy()\n",
    "    inputs[\"mla.focal_length\"] = mla_f\n",
    "    inputs[\"mla.focal_length.units\"] = mla_f_units\n",
    "    inputs[\"mla.pitch\"] = mla_pitch\n",
    "    inputs[\"mla.pitch.units\"] = mla_pitch_units\n",
    "\n",
    "    results = compute_results(inputs)\n",
    "\n",
    "    flat_field_size_sample_plane = results[\"flat_field_size_sample_plane\"][\"value\"] * results[\"flat_field_size_sample_plane\"][\"units\"].value\n",
    "    excitation_spot_size_sample_plane = results[\"excitation_spot_size_sample_plane\"][\"value\"] * results[\"excitation_spot_size_sample_plane\"][\"units\"].value\n",
    "    fresnel_number = results[\"fresnel_number\"][\"value\"]\n",
    "    homogeneity = results[\"homogeneity\"][\"value\"]\n",
    "\n",
    "    size_err = np.abs(flat_field_size_sample_plane - field_size_target)**2\n",
    "\n",
    "    cost = (\n",
    "        field_size_hyperparam * size_err\n",
    "        + spot_size_hyperparam * excitation_spot_size_sample_plane\n",
    "        + fresnel_number_hyperparam * fresnel_number\n",
    "        + homogeneity_hyperparam * homogeneity\n",
    "    )\n",
    "\n",
    "    return cost"
   ]
  },
  {
   "cell_type": "markdown",
   "metadata": {},
   "source": [
    "## Run the optimization routine"
   ]
  },
  {
   "cell_type": "code",
   "execution_count": 4,
   "metadata": {},
   "outputs": [],
   "source": [
    "def objective(params):\n",
    "    mla_f, mla_pitch = params\n",
    "    return cost_function(mla_f, mla_pitch)"
   ]
  },
  {
   "cell_type": "code",
   "execution_count": 6,
   "metadata": {},
   "outputs": [
    {
     "name": "stdout",
     "output_type": "stream",
     "text": [
      "(2,)\n",
      "(2,)\n",
      "(2,)\n",
      "(2,)\n",
      "(2,)\n",
      "(2,)\n",
      "(2,)\n",
      "(2,)\n",
      "(2,)\n",
      "(2,)\n",
      "(2,)\n",
      "(2,)\n",
      "(2,)\n",
      "(2,)\n",
      "(2,)\n",
      "(2,)\n",
      "(2,)\n",
      "(2,)\n",
      "(2,)\n",
      "(2,)\n",
      "(2,)\n",
      "(2,)\n",
      "(2,)\n",
      "(2,)\n",
      "(2,)\n",
      "(2,)\n",
      "(2,)\n",
      "(2,)\n",
      "(2,)\n",
      "(2,)\n",
      "(2,)\n",
      "(2,)\n",
      "(2,)\n",
      "(2,)\n",
      "(2,)\n",
      "(2,)\n",
      "(2,)\n",
      "(2,)\n",
      "(2,)\n",
      "(2,)\n",
      "(2,)\n",
      "(2,)\n",
      "(2,)\n",
      "(2,)\n",
      "(2,)\n",
      "(2,)\n",
      "(2,)\n",
      "(2,)\n",
      "(2,)\n",
      "(2,)\n",
      "(2,)\n",
      "(2,)\n",
      "(2,)\n",
      "(2,)\n",
      "(2,)\n",
      "(2,)\n",
      "(2,)\n",
      "(2,)\n",
      "(2,)\n",
      "(2,)\n",
      "(2,)\n",
      "(2,)\n",
      "(2,)\n",
      "(2,)\n",
      "(2,)\n",
      "(2,)\n",
      "(2,)\n",
      "(2,)\n",
      "(2,)\n",
      "(2,)\n",
      "(2,)\n",
      "(2,)\n",
      "(2,)\n",
      "(2,)\n",
      "(2,)\n",
      "(2,)\n",
      "(2,)\n",
      "(2,)\n"
     ]
    }
   ],
   "source": [
    "result = minimize(\n",
    "    objective,\n",
    "    search_space[0],\n",
    "    bounds=[(mla_f.min(), mla_f.max()), (mla_pitch.min(), mla_pitch.max())],\n",
    "    method=\"Nelder-Mead\",\n",
    ")"
   ]
  },
  {
   "cell_type": "code",
   "execution_count": 7,
   "metadata": {},
   "outputs": [
    {
     "data": {
      "text/plain": [
       "       message: Optimization terminated successfully.\n",
       "       success: True\n",
       "        status: 0\n",
       "           fun: 25.733728492349847\n",
       "             x: [ 1.000e+01  4.092e+02]\n",
       "           nit: 42\n",
       "          nfev: 78\n",
       " final_simplex: (array([[ 1.000e+01,  4.092e+02],\n",
       "                       [ 1.000e+01,  4.092e+02],\n",
       "                       [ 1.000e+01,  4.092e+02]]), array([ 2.573e+01,  2.573e+01,  2.573e+01]))"
      ]
     },
     "execution_count": 7,
     "metadata": {},
     "output_type": "execute_result"
    }
   ],
   "source": [
    "result"
   ]
  },
  {
   "cell_type": "code",
   "execution_count": null,
   "metadata": {},
   "outputs": [
    {
     "data": {
      "text/plain": [
       "[(4.88, 300.0), (4.88, 600.0), (10.0, 300.0), (10.0, 600.0)]"
      ]
     },
     "execution_count": 6,
     "metadata": {},
     "output_type": "execute_result"
    }
   ],
   "source": [
    "search_space"
   ]
  },
  {
   "cell_type": "code",
   "execution_count": null,
   "metadata": {},
   "outputs": [],
   "source": []
  }
 ],
 "metadata": {
  "kernelspec": {
   "display_name": ".venv",
   "language": "python",
   "name": "python3"
  },
  "language_info": {
   "codemirror_mode": {
    "name": "ipython",
    "version": 3
   },
   "file_extension": ".py",
   "mimetype": "text/x-python",
   "name": "python",
   "nbconvert_exporter": "python",
   "pygments_lexer": "ipython3",
   "version": "3.11.2"
  },
  "orig_nbformat": 4
 },
 "nbformat": 4,
 "nbformat_minor": 2
}
