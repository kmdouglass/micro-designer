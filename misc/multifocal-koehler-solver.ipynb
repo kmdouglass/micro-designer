{
 "cells": [
  {
   "cell_type": "markdown",
   "metadata": {},
   "source": [
    "# Solver for a multifocal Koehler integrator"
   ]
  },
  {
   "cell_type": "code",
   "execution_count": 1,
   "metadata": {},
   "outputs": [],
   "source": [
    "import numpy as np\n",
    "from scipy.optimize import minimize\n",
    "\n",
    "from kmdouglass.udesigner import Units\n",
    "from kmdouglass.udesigner.mfki import compute_results, DEFAULTS"
   ]
  },
  {
   "cell_type": "markdown",
   "metadata": {},
   "source": [
    "## Define the input search space\n",
    "\n",
    "In this case, we'll look at a range of (microlens array) MLA focal lengths and pitches."
   ]
  },
  {
   "cell_type": "code",
   "execution_count": 6,
   "metadata": {},
   "outputs": [],
   "source": [
    "# Minimum and maximum values for the variables\n",
    "mla_f = np.array([4.88, 10.0])\n",
    "mla_pitch = np.array([300.0, 600.0])\n",
    "\n",
    "# Choose a random set of initial values\n",
    "mla_f0 = np.random.uniform(*mla_f)\n",
    "mla_pitch0 = np.random.uniform(*mla_pitch)\n",
    "\n",
    "x0 = np.array([mla_f0, mla_pitch0])"
   ]
  },
  {
   "cell_type": "markdown",
   "metadata": {},
   "source": [
    "## Define the cost function\n",
    "\n",
    "The cost function is defined based on this intuition:\n",
    "\n",
    "1. We should be as close to the target field size as possible\n",
    "2. The spot size should be as small as possible\n",
    "3. The Fresnel number should be as large as possible\n",
    "4. The homogeneity factor should be as large as possible\n",
    "\n",
    "The objective function used is:\n",
    "\n",
    "$O = \\underset{f, p}{\\operatorname{argmin}} \\left( a |S_{sample} \\left( f, p \\right) - S_{target}|^2 + b r_{sample} - c \\text{FN} - d B\\right)$\n",
    "\n",
    "where:\n",
    "\n",
    "- $f$: MLA focal length\n",
    "- $p$: MLA pitch\n",
    "- $S_{sample}$: The flat field size on the sample\n",
    "- $S_{target}$: The target flat field size\n",
    "- $r_{sample}$: The spot size on the sample\n",
    "- $\\text{FN}$: the Fresneal number\n",
    "- $B$: The homogeneity factor\n",
    "- $a$, $b$, $c$, $d$: hyperparameters for each factor\n",
    "\n",
    "The optimizer finds the values of $f$ and $p$ that minimize this function."
   ]
  },
  {
   "cell_type": "code",
   "execution_count": 7,
   "metadata": {},
   "outputs": [],
   "source": [
    "def cost_function(\n",
    "        mla_f: float,\n",
    "        mla_pitch: float,\n",
    "        mla_f_units: Units = Units.mm,\n",
    "        mla_pitch_units: Units = Units.um,\n",
    "        field_size_target: float = 160e-6,\n",
    "        field_size_hyperparam: float = 10.0,\n",
    "        spot_size_hyperparam: float = 1.0,\n",
    "        fresnel_number_hyperparam: float = 1.0,\n",
    "        homogeneity_hyperparam: float = 1.0,\n",
    ") -> float:\n",
    "    inputs = DEFAULTS.copy()\n",
    "    inputs[\"mla.focal_length\"] = mla_f\n",
    "    inputs[\"mla.focal_length.units\"] = mla_f_units\n",
    "    inputs[\"mla.pitch\"] = mla_pitch\n",
    "    inputs[\"mla.pitch.units\"] = mla_pitch_units\n",
    "\n",
    "    results = compute_results(inputs)\n",
    "\n",
    "    flat_field_size_sample_plane = results[\"flat_field_size_sample_plane\"][\"value\"] * results[\"flat_field_size_sample_plane\"][\"units\"].value\n",
    "    excitation_spot_size_sample_plane = results[\"excitation_spot_size_sample_plane\"][\"value\"] * results[\"excitation_spot_size_sample_plane\"][\"units\"].value\n",
    "    fresnel_number = results[\"fresnel_number\"][\"value\"]\n",
    "    homogeneity = results[\"homogeneity\"][\"value\"]\n",
    "\n",
    "    size_err = np.abs(flat_field_size_sample_plane - field_size_target)**2\n",
    "\n",
    "    cost = (\n",
    "        field_size_hyperparam * size_err\n",
    "        + spot_size_hyperparam * excitation_spot_size_sample_plane\n",
    "        - fresnel_number_hyperparam * fresnel_number\n",
    "        - homogeneity_hyperparam * homogeneity\n",
    "    )\n",
    "\n",
    "    return cost\n",
    "\n",
    "\n",
    "def objective(params):\n",
    "    mla_f, mla_pitch = params\n",
    "    return cost_function(mla_f, mla_pitch)"
   ]
  },
  {
   "cell_type": "markdown",
   "metadata": {},
   "source": [
    "## Run the optimization routine"
   ]
  },
  {
   "cell_type": "code",
   "execution_count": 8,
   "metadata": {},
   "outputs": [],
   "source": [
    "result = minimize(\n",
    "    objective,\n",
    "    x0,\n",
    "    bounds=[(mla_f.min(), mla_f.max()), (mla_pitch.min(), mla_pitch.max())],\n",
    "    method=\"Nelder-Mead\",\n",
    ")"
   ]
  },
  {
   "cell_type": "code",
   "execution_count": 9,
   "metadata": {},
   "outputs": [
    {
     "data": {
      "text/plain": [
       "       message: Optimization terminated successfully.\n",
       "       success: True\n",
       "        status: 0\n",
       "           fun: -49.492393412087395\n",
       "             x: [ 4.880e+00  6.000e+02]\n",
       "           nit: 6\n",
       "          nfev: 12\n",
       " final_simplex: (array([[ 4.880e+00,  6.000e+02],\n",
       "                       [ 4.880e+00,  6.000e+02],\n",
       "                       [ 4.880e+00,  6.000e+02]]), array([-4.949e+01, -4.949e+01, -4.949e+01]))"
      ]
     },
     "execution_count": 9,
     "metadata": {},
     "output_type": "execute_result"
    }
   ],
   "source": [
    "result"
   ]
  }
 ],
 "metadata": {
  "kernelspec": {
   "display_name": ".venv",
   "language": "python",
   "name": "python3"
  },
  "language_info": {
   "codemirror_mode": {
    "name": "ipython",
    "version": 3
   },
   "file_extension": ".py",
   "mimetype": "text/x-python",
   "name": "python",
   "nbconvert_exporter": "python",
   "pygments_lexer": "ipython3",
   "version": "3.11.2"
  },
  "orig_nbformat": 4
 },
 "nbformat": 4,
 "nbformat_minor": 2
}
