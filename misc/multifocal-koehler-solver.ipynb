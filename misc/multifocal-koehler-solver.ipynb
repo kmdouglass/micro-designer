{
 "cells": [
  {
   "cell_type": "markdown",
   "metadata": {},
   "source": [
    "# Solver for a multifocal Koehler integrator"
   ]
  },
  {
   "cell_type": "code",
   "execution_count": 9,
   "metadata": {},
   "outputs": [],
   "source": [
    "from dataclasses import dataclass\n",
    "from enum import auto, Enum\n",
    "from typing import Protocol\n",
    "\n",
    "import numpy as np\n",
    "from scipy.optimize import minimize\n",
    "\n",
    "from kmdouglass.udesigner import Units\n",
    "from kmdouglass.udesigner.mfki import compute_results, DEFAULTS, Inputs"
   ]
  },
  {
   "cell_type": "markdown",
   "metadata": {},
   "source": [
    "## Define helper functions and product catalogs\n",
    "\n",
    "These are useful for inputting products from different manufacturers, especially when they provide different parameters for the lenses."
   ]
  },
  {
   "cell_type": "code",
   "execution_count": 10,
   "metadata": {},
   "outputs": [
    {
     "name": "stdout",
     "output_type": "stream",
     "text": [
      "[ 3.47826087  1.54565217  0.65217391  6.52173913 10.86956522]\n"
     ]
    }
   ],
   "source": [
    "N_QUARTZ = 1.46  ## refractive index of quartz at 488 nm\n",
    "\n",
    "\n",
    "class Shape(Enum):\n",
    "    CIRCLE = auto()\n",
    "    SQUARE = auto()\n",
    "    CYLINDER = auto()\n",
    "    HEXAGON = auto()\n",
    "\n",
    "\n",
    "@dataclass(frozen=True)\n",
    "class MLASpec(Protocol):\n",
    "    p: float  # um\n",
    "    double_sided: bool\n",
    "    shape: Shape\n",
    "    n: float\n",
    "\n",
    "    @property\n",
    "    def focal_length(self) -> float:\n",
    "        pass\n",
    "\n",
    "\n",
    "@dataclass(frozen=True)\n",
    "class MLASpecF(MLASpec):\n",
    "    f: float  # mm\n",
    "\n",
    "    @property\n",
    "    def focal_length(self) -> float:\n",
    "        return self.f\n",
    "\n",
    "\n",
    "@dataclass(frozen=True)\n",
    "class MLASpecROC(MLASpec):\n",
    "    roc1: float  ## 1 / mm\n",
    "    roc2: float  ## 1 / mm\n",
    "    thickness: float  # mm\n",
    "\n",
    "    @property\n",
    "    def focal_length(self) -> float:\n",
    "        \"\"\"Convert MLAs with specified radius of curvature and thickness to focal length.\n",
    "        \n",
    "        \"\"\"\n",
    "        if self.double_sided:\n",
    "            # A single MLA acts as an imaging homogenizer, i.e. each surface acts as a lenslet in a\n",
    "            # double MLA setup.\n",
    "            return 1 / ((self.n - 1) / self.roc1)\n",
    "        else:\n",
    "            return 1 / ((self.n - 1) * (1 / self.roc1 - 1 / self.roc2 + (self.n - 1) * self.thickness / (self.n * self.roc1 * self.roc2)))\n",
    "\n",
    "\n",
    "suss_products: list[MLASpec] = [\n",
    "    MLASpecROC(roc1=1.6, roc2=np.inf, thickness=1.0, p=500, double_sided=False, shape=Shape.CYLINDER, n=N_QUARTZ),\n",
    "    MLASpecROC(roc1=0.711, roc2=np.inf, thickness=1.2, p=250, double_sided=False, shape=Shape.CYLINDER, n=N_QUARTZ),\n",
    "    MLASpecROC(roc1=0.3, roc2=np.inf, thickness=1.2, p=300, double_sided=False, shape=Shape.CYLINDER, n=N_QUARTZ),\n",
    "    MLASpecROC(roc1=3.0, roc2=np.inf, thickness=1.2, p=500, double_sided=False, shape=Shape.CYLINDER, n=N_QUARTZ),\n",
    "    MLASpecROC(roc1=5.0, roc2=np.inf, thickness=1.2, p=500, double_sided=False, shape=Shape.CYLINDER, n=N_QUARTZ),\n",
    "\n",
    "]\n",
    "\n",
    "focal_lengths = np.array([spec.focal_length for spec in suss_products])\n",
    "print(focal_lengths)"
   ]
  },
  {
   "cell_type": "markdown",
   "metadata": {},
   "source": [
    "Finally, the following is useful for modifying the `Inputs` typed dictionary from the multifocal Koehler integrator code."
   ]
  },
  {
   "cell_type": "code",
   "execution_count": 11,
   "metadata": {},
   "outputs": [],
   "source": [
    "def inputs(\n",
    "        mla_f: float,\n",
    "        mla_pitch: float,\n",
    "        mla_f_units: Units = Units.mm,\n",
    "        mla_pitch_units: Units = Units.um,\n",
    ") -> Inputs:\n",
    "    inputs = DEFAULTS.copy()\n",
    "    inputs[\"mla.focal_length\"] = mla_f\n",
    "    inputs[\"mla.focal_length.units\"] = mla_f_units\n",
    "    inputs[\"mla.pitch\"] = mla_pitch\n",
    "    inputs[\"mla.pitch.units\"] = mla_pitch_units\n",
    "\n",
    "    return inputs"
   ]
  },
  {
   "cell_type": "markdown",
   "metadata": {},
   "source": [
    "## Define the input search space\n",
    "\n",
    "In this case, we'll look at a range of (microlens array) MLA focal lengths and pitches. The array for each value defines the minimum and maximum value to search over.\n",
    "\n",
    "You would get these values by looking at product catalogs from MLA manufacturers, for example: "
   ]
  },
  {
   "cell_type": "code",
   "execution_count": 12,
   "metadata": {},
   "outputs": [],
   "source": [
    "# Minimum and maximum values for the variables\n",
    "mla_f = np.array([0.65, 11.0])\n",
    "mla_pitch = np.array([250.0, 500.0])\n",
    "\n",
    "# Choose a random set of initial values for the optimizer\n",
    "mla_f0 = np.random.uniform(*mla_f)\n",
    "mla_pitch0 = np.random.uniform(*mla_pitch)\n",
    "\n",
    "# The initial value to pass to the optimizer\n",
    "x0 = np.array([mla_f0, mla_pitch0])"
   ]
  },
  {
   "cell_type": "markdown",
   "metadata": {},
   "source": [
    "## Define the cost function\n",
    "\n",
    "The cost function is defined based on this intuition:\n",
    "\n",
    "1. We should be as close to the target field size as possible\n",
    "2. The spot size should be as small as possible\n",
    "3. The Fresnel number should be as large as possible\n",
    "4. The homogeneity factor should be as large as possible\n",
    "\n",
    "The objective function used is:\n",
    "\n",
    "$O = \\underset{f, p}{\\operatorname{argmin}} \\left( a |S_{sample} \\left( f, p \\right) - S_{target}|^2 + b r_{sample} - c \\text{FN} - d B\\right)$\n",
    "\n",
    "where:\n",
    "\n",
    "- $f$: MLA focal length\n",
    "- $p$: MLA pitch\n",
    "- $S_{sample}$: The flat field size on the sample\n",
    "- $S_{target}$: The target flat field size\n",
    "- $r_{sample}$: The spot size on the sample\n",
    "- $\\text{FN}$: the Fresneal number\n",
    "- $B$: The homogeneity factor\n",
    "- $a$, $b$, $c$, $d$: hyperparameters for each factor\n",
    "\n",
    "The optimizer finds the values of $f$ and $p$ that minimize this function."
   ]
  },
  {
   "cell_type": "code",
   "execution_count": 13,
   "metadata": {},
   "outputs": [],
   "source": [
    "def cost_function(\n",
    "        mla_f: float,\n",
    "        mla_pitch: float,\n",
    "        mla_f_units: Units = Units.mm,\n",
    "        mla_pitch_units: Units = Units.um,\n",
    "        field_size_target: float = 160,\n",
    "        field_size_target_units: Units = Units.um,\n",
    "        field_size_hyperparam: float = 1e9,\n",
    "        spot_size_hyperparam: float = 1.0,\n",
    "        fresnel_number_hyperparam: float = 1.0,\n",
    "        homogeneity_hyperparam: float = 1.0,\n",
    ") -> float:\n",
    "    cost_inputs = inputs(mla_f=mla_f, mla_pitch=mla_pitch, mla_f_units=mla_f_units, mla_pitch_units=mla_pitch_units)\n",
    "\n",
    "    results = compute_results(cost_inputs)\n",
    "\n",
    "    flat_field_size_sample_plane = results[\"flat_field_size_sample_plane\"][\"value\"] * results[\"flat_field_size_sample_plane\"][\"units\"].value\n",
    "    field_size_target = field_size_target * field_size_target_units.value\n",
    "    excitation_spot_size_sample_plane = results[\"excitation_spot_size_sample_plane\"][\"value\"] * results[\"excitation_spot_size_sample_plane\"][\"units\"].value / Units.um.value  # um\n",
    "    fresnel_number = results[\"fresnel_number\"][\"value\"]\n",
    "    homogeneity = results[\"homogeneity\"][\"value\"]\n",
    "\n",
    "    size_err = np.abs(flat_field_size_sample_plane - field_size_target)**2\n",
    "\n",
    "    cost = (\n",
    "        field_size_hyperparam * size_err\n",
    "        + spot_size_hyperparam * excitation_spot_size_sample_plane\n",
    "        - fresnel_number_hyperparam * fresnel_number\n",
    "        - homogeneity_hyperparam * homogeneity\n",
    "    )\n",
    "\n",
    "    return cost\n",
    "\n",
    "\n",
    "def objective(params):\n",
    "    mla_f, mla_pitch = params\n",
    "    return cost_function(mla_f, mla_pitch)"
   ]
  },
  {
   "cell_type": "markdown",
   "metadata": {},
   "source": [
    "## Run the optimization routine"
   ]
  },
  {
   "cell_type": "code",
   "execution_count": 14,
   "metadata": {},
   "outputs": [
    {
     "data": {
      "text/plain": [
       "       message: Optimization terminated successfully.\n",
       "       success: True\n",
       "        status: 0\n",
       "           fun: -31.966069602046993\n",
       "             x: [ 6.167e+00  5.000e+02]\n",
       "           nit: 29\n",
       "          nfev: 50\n",
       " final_simplex: (array([[ 6.167e+00,  5.000e+02],\n",
       "                       [ 6.167e+00,  5.000e+02],\n",
       "                       [ 6.167e+00,  5.000e+02]]), array([-3.197e+01, -3.197e+01, -3.197e+01]))"
      ]
     },
     "execution_count": 14,
     "metadata": {},
     "output_type": "execute_result"
    }
   ],
   "source": [
    "result = minimize(\n",
    "    objective,\n",
    "    x0,\n",
    "    bounds=[(mla_f.min(), mla_f.max()), (mla_pitch.min(), mla_pitch.max())],\n",
    "    method=\"Nelder-Mead\",\n",
    ")\n",
    "result"
   ]
  },
  {
   "cell_type": "code",
   "execution_count": 15,
   "metadata": {},
   "outputs": [
    {
     "name": "stdout",
     "output_type": "stream",
     "text": [
      "Optimum MLA parameters:\n",
      "MLA focal length: 6.17 mm\n",
      "MLA pitch: 500.00 um\n"
     ]
    }
   ],
   "source": [
    "print(\"Optimum MLA parameters:\")\n",
    "print(f\"MLA focal length: {result.x[0]:.2f} mm\")\n",
    "print(f\"MLA pitch: {result.x[1]:.2f} um\")"
   ]
  },
  {
   "cell_type": "markdown",
   "metadata": {},
   "source": [
    "# Compute the system specs\n",
    "\n",
    "Finally, compute the full results give the optimized values."
   ]
  },
  {
   "cell_type": "code",
   "execution_count": 16,
   "metadata": {},
   "outputs": [
    {
     "name": "stdout",
     "output_type": "stream",
     "text": [
      "Field size at sample: 209.69 um\n"
     ]
    }
   ],
   "source": [
    "result_inputs = inputs(mla_f=result.x[0], mla_pitch=result.x[1])\n",
    "final = compute_results(result_inputs)\n",
    "\n",
    "print(f\"Field size at sample: {final['flat_field_size_sample_plane']['value']:.2f} {final['flat_field_size_sample_plane']['units']}\")"
   ]
  },
  {
   "cell_type": "code",
   "execution_count": null,
   "metadata": {},
   "outputs": [],
   "source": []
  }
 ],
 "metadata": {
  "kernelspec": {
   "display_name": ".venv",
   "language": "python",
   "name": "python3"
  },
  "language_info": {
   "codemirror_mode": {
    "name": "ipython",
    "version": 3
   },
   "file_extension": ".py",
   "mimetype": "text/x-python",
   "name": "python",
   "nbconvert_exporter": "python",
   "pygments_lexer": "ipython3",
   "version": "3.11.2"
  },
  "orig_nbformat": 4
 },
 "nbformat": 4,
 "nbformat_minor": 2
}
